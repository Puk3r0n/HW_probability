{
 "cells": [
  {
   "cell_type": "markdown",
   "metadata": {},
   "source": [
    "# Задача 3"
   ]
  },
  {
   "cell_type": "code",
   "execution_count": 19,
   "metadata": {},
   "outputs": [],
   "source": [
    "import numpy as np\n",
    "import pandas as pd"
   ]
  },
  {
   "cell_type": "code",
   "execution_count": 20,
   "metadata": {},
   "outputs": [],
   "source": [
    "data = pd.read_csv(\"ha01_data.csv\")"
   ]
  },
  {
   "cell_type": "markdown",
   "metadata": {},
   "source": [
    "#### Пункт А"
   ]
  },
  {
   "cell_type": "code",
   "execution_count": 21,
   "metadata": {},
   "outputs": [
    {
     "name": "stdout",
     "output_type": "stream",
     "text": [
      "a) Фактическое значение статистики S: -1.8333\n"
     ]
    }
   ],
   "source": [
    "y_A_mean = data[data['x'] == 'A']['y'].mean()\n",
    "y_B_mean = data[data['x'] == 'B']['y'].mean()\n",
    "S = y_B_mean - y_A_mean\n",
    "print(f\"a) Фактическое значение статистики S: {S:.4f}\")"
   ]
  },
  {
   "cell_type": "markdown",
   "metadata": {},
   "source": [
    "#### Пункт Б"
   ]
  },
  {
   "cell_type": "code",
   "execution_count": 22,
   "metadata": {},
   "outputs": [],
   "source": [
    "n = 10000\n",
    "S_new_values = []\n",
    "for _ in range(n):\n",
    "    shuffled_x = np.random.permutation(data['x'])\n",
    "    df_shuffled = data.copy()\n",
    "    df_shuffled['x'] = shuffled_x\n",
    "    y_A_mean_new = df_shuffled[df_shuffled['x'] == 'A']['y'].mean()\n",
    "    y_B_mean_new = df_shuffled[df_shuffled['x'] == 'B']['y'].mean()\n",
    "    S_new = y_B_mean_new - y_A_mean_new\n",
    "    S_new_values.append(S_new)"
   ]
  },
  {
   "cell_type": "code",
   "execution_count": 23,
   "metadata": {},
   "outputs": [
    {
     "name": "stdout",
     "output_type": "stream",
     "text": [
      "в) p-значение: 0.0922\n"
     ]
    }
   ],
   "source": [
    "p_value = np.sum(np.array(S_new_values) <= S) / n\n",
    "print(f\"в) p-значение: {p_value:.4f}\")"
   ]
  },
  {
   "cell_type": "code",
   "execution_count": 24,
   "metadata": {},
   "outputs": [
    {
     "name": "stdout",
     "output_type": "stream",
     "text": [
      "г) p-значение (0.0922) больше уровня значимости (0.05), поэтому мы не отвергаем H0.\n"
     ]
    }
   ],
   "source": [
    "alpha = 0.05\n",
    "if p_value <= alpha:\n",
    "    print(f\"г) p-значение ({p_value:.4f}) меньше уровня значимости ({alpha}), поэтому мы отвергаем H0.\")\n",
    "else:\n",
    "    print(f\"г) p-значение ({p_value:.4f}) больше уровня значимости ({alpha}), поэтому мы не отвергаем H0.\")"
   ]
  },
  {
   "cell_type": "markdown",
   "metadata": {},
   "source": []
  }
 ],
 "metadata": {
  "kernelspec": {
   "display_name": "Python 3",
   "language": "python",
   "name": "python3"
  },
  "language_info": {
   "codemirror_mode": {
    "name": "ipython",
    "version": 3
   },
   "file_extension": ".py",
   "mimetype": "text/x-python",
   "name": "python",
   "nbconvert_exporter": "python",
   "pygments_lexer": "ipython3",
   "version": "3.10.12"
  }
 },
 "nbformat": 4,
 "nbformat_minor": 2
}
